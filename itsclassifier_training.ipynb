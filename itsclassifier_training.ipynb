{
 "cells": [
  {
   "cell_type": "code",
   "execution_count": 1,
   "id": "f5953e2c",
   "metadata": {
    "_cell_guid": "b1076dfc-b9ad-4769-8c92-a6c4dae69d19",
    "_uuid": "8f2839f25d086af736a60e9eeb907d3b93b6e0e5",
    "execution": {
     "iopub.execute_input": "2023-11-11T03:13:13.290519Z",
     "iopub.status.busy": "2023-11-11T03:13:13.290117Z",
     "iopub.status.idle": "2023-11-11T03:13:28.156351Z",
     "shell.execute_reply": "2023-11-11T03:13:28.155221Z"
    },
    "papermill": {
     "duration": 14.875697,
     "end_time": "2023-11-11T03:13:28.158919",
     "exception": false,
     "start_time": "2023-11-11T03:13:13.283222",
     "status": "completed"
    },
    "tags": []
   },
   "outputs": [
    {
     "name": "stderr",
     "output_type": "stream",
     "text": [
      "/opt/conda/lib/python3.10/site-packages/scipy/__init__.py:146: UserWarning: A NumPy version >=1.16.5 and <1.23.0 is required for this version of SciPy (detected version 1.23.5\n",
      "  warnings.warn(f\"A NumPy version >={np_minversion} and <{np_maxversion}\"\n",
      "/opt/conda/lib/python3.10/site-packages/tensorflow_io/python/ops/__init__.py:98: UserWarning: unable to load libtensorflow_io_plugins.so: unable to open file: libtensorflow_io_plugins.so, from paths: ['/opt/conda/lib/python3.10/site-packages/tensorflow_io/python/ops/libtensorflow_io_plugins.so']\n",
      "caused by: ['/opt/conda/lib/python3.10/site-packages/tensorflow_io/python/ops/libtensorflow_io_plugins.so: undefined symbol: _ZN3tsl6StatusC1EN10tensorflow5error4CodeESt17basic_string_viewIcSt11char_traitsIcEENS_14SourceLocationE']\n",
      "  warnings.warn(f\"unable to load libtensorflow_io_plugins.so: {e}\")\n",
      "/opt/conda/lib/python3.10/site-packages/tensorflow_io/python/ops/__init__.py:104: UserWarning: file system plugins are not loaded: unable to open file: libtensorflow_io.so, from paths: ['/opt/conda/lib/python3.10/site-packages/tensorflow_io/python/ops/libtensorflow_io.so']\n",
      "caused by: ['/opt/conda/lib/python3.10/site-packages/tensorflow_io/python/ops/libtensorflow_io.so: undefined symbol: _ZTVN10tensorflow13GcsFileSystemE']\n",
      "  warnings.warn(f\"file system plugins are not loaded: {e}\")\n"
     ]
    }
   ],
   "source": [
    "import os\n",
    "import pandas as pd\n",
    "import numpy as np\n",
    "import torch\n",
    "import tensorflow as tf\n",
    "\n",
    "from typing import Optional, Union\n",
    "from datasets import Dataset\n",
    "from dataclasses import dataclass\n",
    "from torch.utils.data import DataLoader\n",
    "from transformers import AutoTokenizer\n",
    "from transformers.tokenization_utils_base import PreTrainedTokenizerBase, PaddingStrategy\n",
    "from transformers import AutoModelForSequenceClassification, TrainingArguments, Trainer\n",
    "from transformers.trainer_callback import EarlyStoppingCallback, TrainerCallback, TrainerState, TrainerControl\n",
    "from transformers import DataCollatorWithPadding\n",
    "from sklearn.model_selection import KFold, StratifiedKFold, train_test_split\n",
    "from sklearn.preprocessing import LabelEncoder\n",
    "import re"
   ]
  },
  {
   "cell_type": "code",
   "execution_count": 2,
   "id": "1c400e89",
   "metadata": {
    "execution": {
     "iopub.execute_input": "2023-11-11T03:13:28.169887Z",
     "iopub.status.busy": "2023-11-11T03:13:28.169534Z",
     "iopub.status.idle": "2023-11-11T03:13:28.468784Z",
     "shell.execute_reply": "2023-11-11T03:13:28.467856Z"
    },
    "papermill": {
     "duration": 0.307488,
     "end_time": "2023-11-11T03:13:28.471330",
     "exception": false,
     "start_time": "2023-11-11T03:13:28.163842",
     "status": "completed"
    },
    "tags": []
   },
   "outputs": [],
   "source": [
    "import matplotlib.pyplot as plt\n",
    "import seaborn as sns"
   ]
  },
  {
   "cell_type": "code",
   "execution_count": 3,
   "id": "343cb885",
   "metadata": {
    "execution": {
     "iopub.execute_input": "2023-11-11T03:13:28.482108Z",
     "iopub.status.busy": "2023-11-11T03:13:28.481802Z",
     "iopub.status.idle": "2023-11-11T03:13:28.489425Z",
     "shell.execute_reply": "2023-11-11T03:13:28.488554Z"
    },
    "papermill": {
     "duration": 0.015171,
     "end_time": "2023-11-11T03:13:28.491397",
     "exception": false,
     "start_time": "2023-11-11T03:13:28.476226",
     "status": "completed"
    },
    "tags": []
   },
   "outputs": [],
   "source": [
    "def ignore_email(text):\n",
    "    if str(text)[:8]=='received':\n",
    "        return str(text).split('\\n', 1)[-1]\n",
    "    else:\n",
    "        return text\n",
    "def t1_change(group):\n",
    "    if 'FieldSupport' in group and 'HDH' not in group:\n",
    "        return 'ITS-FieldSupport-Intake'\n",
    "    if 'SecurityZoom' in group:\n",
    "        return 'ITS-Zoom'\n",
    "    if 'HDH' in group:\n",
    "        return 'ITS-HDH'\n",
    "    if 'RMP' in group:\n",
    "        return 'ITS-RMP'\n",
    "    if 'Library' in group:\n",
    "        return 'ITS-Library'\n",
    "    if 'Security' in group:\n",
    "        return 'ITS-SecuritySOC'\n",
    "    if 'FIS' in group and 'Config' not in group:\n",
    "        return 'ITS-FIS'\n",
    "    if 'Datacomm' in group:\n",
    "        return 'ITS-Datacomm'\n",
    "    if 'ServiceDesk' in group:\n",
    "        return 'ITS-ServiceDesk'\n",
    "    if 'SNOW' in group:\n",
    "        return 'ITS-SNOW'\n",
    "    if group=='ITS-JAMF':\n",
    "        return 'ITS-WorkstationLifecycle'\n",
    "    else:\n",
    "        return group "
   ]
  },
  {
   "cell_type": "code",
   "execution_count": 4,
   "id": "5b9d6a8a",
   "metadata": {
    "execution": {
     "iopub.execute_input": "2023-11-11T03:13:28.501849Z",
     "iopub.status.busy": "2023-11-11T03:13:28.501557Z",
     "iopub.status.idle": "2023-11-11T03:13:28.507000Z",
     "shell.execute_reply": "2023-11-11T03:13:28.506092Z"
    },
    "papermill": {
     "duration": 0.013101,
     "end_time": "2023-11-11T03:13:28.509048",
     "exception": false,
     "start_time": "2023-11-11T03:13:28.495947",
     "status": "completed"
    },
    "tags": []
   },
   "outputs": [],
   "source": [
    "defunct = ['ITS-Directory', 'ITS-ServiceDesk-MisroutedTicket', 'ITS-MECM', 'ITS-Billing','ITS-Purchasing',\n",
    "           'ITS-BADG', 'ITS-WebTech', 'ITS-Planning', 'ITS-EcotimeSupport', 'ITS-CCR-Support', \n",
    "           'ITS-LaptopLoaners', 'ITS-InTune', 'ITS-MediaTeachLab', 'ITS-UCSD-AH-Support', \n",
    "           'ITS-StaffAdmin', 'ITS-DataWarehouse', 'ITS-EndpointStorekeeper', \n",
    "           'ITS-MiddlewareIntegration', 'ITS-TSMT', 'ITS-StaffHR', 'ITS-ChangeManagement',\n",
    "           'ITS-FacilitiesMgmt', 'ITS-ContinuityPlanning', 'ITS-EnterpriseArchitecture','ITS-LSS-Support', \n",
    "           'ITS-CloudFinance', 'ITS-MediaServicesMgmt', 'ITS-ServiceMgmtOffice', 'ITS-FinancialMainframe', 'ITS-PatchMgmt', \n",
    "           'ITS-WorkplaceTechServices', 'ITS-ProblemManagement', 'ITS-FIM-CAD']"
   ]
  },
  {
   "cell_type": "code",
   "execution_count": 5,
   "id": "3506deed",
   "metadata": {
    "execution": {
     "iopub.execute_input": "2023-11-11T03:13:28.519488Z",
     "iopub.status.busy": "2023-11-11T03:13:28.519241Z",
     "iopub.status.idle": "2023-11-11T03:13:28.522991Z",
     "shell.execute_reply": "2023-11-11T03:13:28.522194Z"
    },
    "papermill": {
     "duration": 0.011413,
     "end_time": "2023-11-11T03:13:28.524882",
     "exception": false,
     "start_time": "2023-11-11T03:13:28.513469",
     "status": "completed"
    },
    "tags": []
   },
   "outputs": [],
   "source": [
    "to_predict = 'assignment_group'"
   ]
  },
  {
   "cell_type": "code",
   "execution_count": 6,
   "id": "02882e68",
   "metadata": {
    "execution": {
     "iopub.execute_input": "2023-11-11T03:13:28.534820Z",
     "iopub.status.busy": "2023-11-11T03:13:28.534582Z",
     "iopub.status.idle": "2023-11-11T03:13:40.176416Z",
     "shell.execute_reply": "2023-11-11T03:13:40.175493Z"
    },
    "papermill": {
     "duration": 11.64971,
     "end_time": "2023-11-11T03:13:40.179046",
     "exception": false,
     "start_time": "2023-11-11T03:13:28.529336",
     "status": "completed"
    },
    "tags": []
   },
   "outputs": [],
   "source": [
    "df = pd.read_csv(\"/kaggle/input/nophonetickets/sn_customerservice_case (1).csv\",encoding=\"utf-8\",\n",
    "            encoding_errors=\"ignore\",\n",
    "            engine=\"c\",\n",
    "            on_bad_lines=\"warn\")\n",
    "df = df[~df['assignment_group'].isin(defunct)]\n",
    "evcats = df['assignment_group'].str.contains('EVCATS')\n",
    "df = df[~evcats]\n",
    "df = df[df['assignment_group'].str.contains('ITS')]\n",
    "df['assignment_group'] = df['assignment_group'].apply(t1_change)\n",
    "df['assignment_group'] = df['assignment_group'].str[4:]\n",
    "df['description'] = df['description'].apply(ignore_email)\n",
    "df['combined'] = df['short_description']+' #### '+df['description']\n",
    "df = df[[\"combined\", to_predict]]\n",
    "df[\"combined\"] = df[\"combined\"].fillna(\"\")\n",
    "#df.to_csv(\"/kaggle/working/processed_its_top_25.csv\")"
   ]
  },
  {
   "cell_type": "code",
   "execution_count": 7,
   "id": "92aa626d",
   "metadata": {
    "execution": {
     "iopub.execute_input": "2023-11-11T03:13:40.190542Z",
     "iopub.status.busy": "2023-11-11T03:13:40.190223Z",
     "iopub.status.idle": "2023-11-11T03:13:41.028024Z",
     "shell.execute_reply": "2023-11-11T03:13:41.026951Z"
    },
    "papermill": {
     "duration": 0.846278,
     "end_time": "2023-11-11T03:13:41.030550",
     "exception": false,
     "start_time": "2023-11-11T03:13:40.184272",
     "status": "completed"
    },
    "tags": []
   },
   "outputs": [],
   "source": [
    "#filename = '/kaggle/working/processed_its_top_25.csv'\n",
    "df = df[df['combined'].str.len()<600]\n",
    "df['combined'] = df['combined'].str.replace('\\n', ' ')\n",
    "df['combined'] = df['combined'].str.replace('\\r', ' ')\n",
    "df[\"combined\"] = df[\"combined\"].fillna(\"\")\n",
    "X = df[\"combined\"].fillna(\"None\").to_numpy()\n",
    "le = LabelEncoder()\n",
    "#y = le.fit(df[\"service_offering\"])\n",
    "y = le.fit(df[to_predict].astype(str))\n"
   ]
  },
  {
   "cell_type": "code",
   "execution_count": 8,
   "id": "d3fac275",
   "metadata": {
    "execution": {
     "iopub.execute_input": "2023-11-11T03:13:41.042828Z",
     "iopub.status.busy": "2023-11-11T03:13:41.042088Z",
     "iopub.status.idle": "2023-11-11T03:13:41.070970Z",
     "shell.execute_reply": "2023-11-11T03:13:41.070163Z"
    },
    "papermill": {
     "duration": 0.037231,
     "end_time": "2023-11-11T03:13:41.073036",
     "exception": false,
     "start_time": "2023-11-11T03:13:41.035805",
     "status": "completed"
    },
    "tags": []
   },
   "outputs": [],
   "source": [
    "offerings = df[to_predict].unique().astype(str)\n",
    "\n",
    "labels = y.transform(offerings)\n",
    "\n",
    "label2id = dict(zip(offerings, labels.tolist()))\n",
    "id2label = dict(zip(labels.tolist(), offerings))\n",
    "train_set=df"
   ]
  },
  {
   "cell_type": "code",
   "execution_count": 9,
   "id": "d0d82e01",
   "metadata": {
    "execution": {
     "iopub.execute_input": "2023-11-11T03:13:41.083823Z",
     "iopub.status.busy": "2023-11-11T03:13:41.083538Z",
     "iopub.status.idle": "2023-11-11T03:13:41.088521Z",
     "shell.execute_reply": "2023-11-11T03:13:41.087614Z"
    },
    "papermill": {
     "duration": 0.012663,
     "end_time": "2023-11-11T03:13:41.090595",
     "exception": false,
     "start_time": "2023-11-11T03:13:41.077932",
     "status": "completed"
    },
    "tags": []
   },
   "outputs": [],
   "source": [
    "def preprocess(example):\n",
    "    tokenized_example = tokenizer(example['combined'], truncation=True, padding=True, max_length=1024)\n",
    "    tokenized_example['label'] = label2id[example[to_predict]]\n",
    "    return tokenized_example\n",
    "###\n",
    "#def compute_metrics(eval_pred):\n",
    "#    predictions, labels = eval_pred\n",
    "#    predictions = np.argmax(predictions, axis=1)\n",
    "#    return {'accuracy': (predictions==labels).mean()}\n",
    "###"
   ]
  },
  {
   "cell_type": "code",
   "execution_count": 10,
   "id": "960da2b3",
   "metadata": {
    "execution": {
     "iopub.execute_input": "2023-11-11T03:13:41.100934Z",
     "iopub.status.busy": "2023-11-11T03:13:41.100634Z",
     "iopub.status.idle": "2023-11-11T03:13:42.526288Z",
     "shell.execute_reply": "2023-11-11T03:13:42.524217Z"
    },
    "papermill": {
     "duration": 1.433277,
     "end_time": "2023-11-11T03:13:42.528546",
     "exception": false,
     "start_time": "2023-11-11T03:13:41.095269",
     "status": "completed"
    },
    "tags": []
   },
   "outputs": [
    {
     "name": "stderr",
     "output_type": "stream",
     "text": [
      "Special tokens have been added in the vocabulary, make sure the associated word embeddings are fine-tuned or trained.\n",
      "/opt/conda/lib/python3.10/site-packages/transformers/convert_slow_tokenizer.py:454: UserWarning: The sentencepiece tokenizer that you are converting to a fast tokenizer uses the byte fallback option which is not implemented in the fast tokenizers. In practice this means that the fast version of the tokenizer can produce unknown tokens whereas the sentencepiece version would have converted these unknown tokens into a sequence of byte tokens matching the original piece of text.\n",
      "  warnings.warn(\n",
      "Special tokens have been added in the vocabulary, make sure the associated word embeddings are fine-tuned or trained.\n"
     ]
    }
   ],
   "source": [
    "deberta_v3_large = '/kaggle/input/microsoftdeberta-v3-base/deberta-v3-base'\n",
    "tokenizer = AutoTokenizer.from_pretrained(deberta_v3_large)"
   ]
  },
  {
   "cell_type": "code",
   "execution_count": 11,
   "id": "57ce873e",
   "metadata": {
    "execution": {
     "iopub.execute_input": "2023-11-11T03:13:42.540644Z",
     "iopub.status.busy": "2023-11-11T03:13:42.539866Z",
     "iopub.status.idle": "2023-11-11T03:14:14.249408Z",
     "shell.execute_reply": "2023-11-11T03:14:14.248392Z"
    },
    "papermill": {
     "duration": 31.717985,
     "end_time": "2023-11-11T03:14:14.251825",
     "exception": false,
     "start_time": "2023-11-11T03:13:42.533840",
     "status": "completed"
    },
    "tags": []
   },
   "outputs": [
    {
     "data": {
      "application/vnd.jupyter.widget-view+json": {
       "model_id": "175ab6917478481d98b29e3061a991e8",
       "version_major": 2,
       "version_minor": 0
      },
      "text/plain": [
       "  0%|          | 0/39954 [00:00<?, ?ex/s]"
      ]
     },
     "metadata": {},
     "output_type": "display_data"
    },
    {
     "data": {
      "application/vnd.jupyter.widget-view+json": {
       "model_id": "f4684486d4624bc99f59163a51329cfa",
       "version_major": 2,
       "version_minor": 0
      },
      "text/plain": [
       "  0%|          | 0/9989 [00:00<?, ?ex/s]"
      ]
     },
     "metadata": {},
     "output_type": "display_data"
    }
   ],
   "source": [
    "df = df.dropna()\n",
    "\n",
    "def sampling_k_elements(group, k=1500):\n",
    "    if len(group) < k:\n",
    "        return group\n",
    "    return group.sample(k)\n",
    "\n",
    "balanced = df.groupby(to_predict).apply(sampling_k_elements).reset_index(drop=True)\n",
    "\n",
    "\n",
    "def map3(y_true, y_pred):\n",
    "    m = (y_true.reshape((-1,1)) == y_pred)\n",
    "    return np.mean(np.where(m.any(axis=1), m.argmax(axis=1)+1, np.inf)**(-1))\n",
    "\n",
    "def compute_metrics(eval_pred):\n",
    "    predictions, labels = eval_pred\n",
    "    predictions_sorted = np.argsort(-predictions, axis=1)[:, :3]\n",
    "    return {'map3': map3(labels, predictions_sorted)}\n",
    "\n",
    "best_score = -float('inf')\n",
    "#df.columns = ['Unnamed: 0', 'text', 'labels']\n",
    "#train_df = df.sample(10000)[['text', 'labels']]\n",
    "train_df = balanced[['combined', to_predict]]\n",
    "trained_model_dir_path = '/kaggle/working'\n",
    "\n",
    "\n",
    "#ds = Dataset.from_pandas(train_df[['text','labels']]).train_test_split(test_size=0.2, stratify_by_column=\"labels\")\n",
    "X_train, X_test, y_train, y_test = train_test_split(train_df['combined'], train_df[to_predict], test_size=0.2, random_state=40)\n",
    "train = pd.concat([X_train, y_train], axis=1)\n",
    "train_ds = Dataset.from_pandas(train)\n",
    "test = pd.concat([X_test, y_test], axis=1)\n",
    "test_ds = Dataset.from_pandas(test)\n",
    "tokenized_train = train_ds.map(preprocess)\n",
    "tokenized_train = tokenized_train.remove_columns([to_predict])\n",
    "tokenized_valid = test_ds.map(preprocess)\n",
    "tokenized_valid = tokenized_valid.remove_columns([to_predict])"
   ]
  },
  {
   "cell_type": "code",
   "execution_count": 12,
   "id": "94bbb943",
   "metadata": {
    "execution": {
     "iopub.execute_input": "2023-11-11T03:14:14.264102Z",
     "iopub.status.busy": "2023-11-11T03:14:14.263789Z",
     "iopub.status.idle": "2023-11-11T06:21:52.522753Z",
     "shell.execute_reply": "2023-11-11T06:21:52.521779Z"
    },
    "papermill": {
     "duration": 11258.267324,
     "end_time": "2023-11-11T06:21:52.524689",
     "exception": false,
     "start_time": "2023-11-11T03:14:14.257365",
     "status": "completed"
    },
    "tags": []
   },
   "outputs": [
    {
     "name": "stderr",
     "output_type": "stream",
     "text": [
      "Some weights of the model checkpoint at /kaggle/input/microsoftdeberta-v3-base/deberta-v3-base were not used when initializing DebertaV2ForSequenceClassification: ['lm_predictions.lm_head.LayerNorm.weight', 'lm_predictions.lm_head.LayerNorm.bias', 'mask_predictions.dense.bias', 'mask_predictions.LayerNorm.bias', 'mask_predictions.classifier.weight', 'lm_predictions.lm_head.bias', 'mask_predictions.dense.weight', 'mask_predictions.classifier.bias', 'mask_predictions.LayerNorm.weight', 'lm_predictions.lm_head.dense.weight', 'lm_predictions.lm_head.dense.bias']\n",
      "- This IS expected if you are initializing DebertaV2ForSequenceClassification from the checkpoint of a model trained on another task or with another architecture (e.g. initializing a BertForSequenceClassification model from a BertForPreTraining model).\n",
      "- This IS NOT expected if you are initializing DebertaV2ForSequenceClassification from the checkpoint of a model that you expect to be exactly identical (initializing a BertForSequenceClassification model from a BertForSequenceClassification model).\n",
      "Some weights of DebertaV2ForSequenceClassification were not initialized from the model checkpoint at /kaggle/input/microsoftdeberta-v3-base/deberta-v3-base and are newly initialized: ['classifier.weight', 'pooler.dense.bias', 'classifier.bias', 'pooler.dense.weight']\n",
      "You should probably TRAIN this model on a down-stream task to be able to use it for predictions and inference.\n",
      "/opt/conda/lib/python3.10/site-packages/transformers/optimization.py:411: FutureWarning: This implementation of AdamW is deprecated and will be removed in a future version. Use the PyTorch implementation torch.optim.AdamW instead, or set `no_deprecation_warning=True` to disable this warning\n",
      "  warnings.warn(\n",
      "You're using a DebertaV2TokenizerFast tokenizer. Please note that with a fast tokenizer, using the `__call__` method is faster than using a method to encode the text followed by a call to the `pad` method to get a padded encoding.\n",
      "/opt/conda/lib/python3.10/site-packages/torch/nn/parallel/_functions.py:68: UserWarning: Was asked to gather along dimension 0, but all input tensors were scalars; will instead unsqueeze and return a vector.\n",
      "  warnings.warn('Was asked to gather along dimension 0, but all '\n"
     ]
    },
    {
     "data": {
      "text/html": [
       "\n",
       "    <div>\n",
       "      \n",
       "      <progress value='4992' max='4992' style='width:300px; height:20px; vertical-align: middle;'></progress>\n",
       "      [4992/4992 3:07:20, Epoch 7/8]\n",
       "    </div>\n",
       "    <table border=\"1\" class=\"dataframe\">\n",
       "  <thead>\n",
       " <tr style=\"text-align: left;\">\n",
       "      <th>Epoch</th>\n",
       "      <th>Training Loss</th>\n",
       "      <th>Validation Loss</th>\n",
       "      <th>Map3</th>\n",
       "    </tr>\n",
       "  </thead>\n",
       "  <tbody>\n",
       "    <tr>\n",
       "      <td>0</td>\n",
       "      <td>3.666000</td>\n",
       "      <td>1.999156</td>\n",
       "      <td>0.605800</td>\n",
       "    </tr>\n",
       "    <tr>\n",
       "      <td>2</td>\n",
       "      <td>1.870000</td>\n",
       "      <td>1.261506</td>\n",
       "      <td>0.755448</td>\n",
       "    </tr>\n",
       "    <tr>\n",
       "      <td>2</td>\n",
       "      <td>1.211500</td>\n",
       "      <td>0.965860</td>\n",
       "      <td>0.818317</td>\n",
       "    </tr>\n",
       "    <tr>\n",
       "      <td>4</td>\n",
       "      <td>0.919500</td>\n",
       "      <td>0.885627</td>\n",
       "      <td>0.837071</td>\n",
       "    </tr>\n",
       "    <tr>\n",
       "      <td>4</td>\n",
       "      <td>0.574900</td>\n",
       "      <td>0.858514</td>\n",
       "      <td>0.846581</td>\n",
       "    </tr>\n",
       "    <tr>\n",
       "      <td>6</td>\n",
       "      <td>0.478800</td>\n",
       "      <td>0.876107</td>\n",
       "      <td>0.849418</td>\n",
       "    </tr>\n",
       "    <tr>\n",
       "      <td>6</td>\n",
       "      <td>0.386500</td>\n",
       "      <td>0.874882</td>\n",
       "      <td>0.853989</td>\n",
       "    </tr>\n",
       "    <tr>\n",
       "      <td>7</td>\n",
       "      <td>0.325700</td>\n",
       "      <td>0.883924</td>\n",
       "      <td>0.855908</td>\n",
       "    </tr>\n",
       "  </tbody>\n",
       "</table><p>"
      ],
      "text/plain": [
       "<IPython.core.display.HTML object>"
      ]
     },
     "metadata": {},
     "output_type": "display_data"
    },
    {
     "name": "stderr",
     "output_type": "stream",
     "text": [
      "/opt/conda/lib/python3.10/site-packages/torch/nn/parallel/_functions.py:68: UserWarning: Was asked to gather along dimension 0, but all input tensors were scalars; will instead unsqueeze and return a vector.\n",
      "  warnings.warn('Was asked to gather along dimension 0, but all '\n",
      "/opt/conda/lib/python3.10/site-packages/torch/nn/parallel/_functions.py:68: UserWarning: Was asked to gather along dimension 0, but all input tensors were scalars; will instead unsqueeze and return a vector.\n",
      "  warnings.warn('Was asked to gather along dimension 0, but all '\n",
      "/opt/conda/lib/python3.10/site-packages/torch/nn/parallel/_functions.py:68: UserWarning: Was asked to gather along dimension 0, but all input tensors were scalars; will instead unsqueeze and return a vector.\n",
      "  warnings.warn('Was asked to gather along dimension 0, but all '\n",
      "/opt/conda/lib/python3.10/site-packages/torch/nn/parallel/_functions.py:68: UserWarning: Was asked to gather along dimension 0, but all input tensors were scalars; will instead unsqueeze and return a vector.\n",
      "  warnings.warn('Was asked to gather along dimension 0, but all '\n",
      "/opt/conda/lib/python3.10/site-packages/torch/nn/parallel/_functions.py:68: UserWarning: Was asked to gather along dimension 0, but all input tensors were scalars; will instead unsqueeze and return a vector.\n",
      "  warnings.warn('Was asked to gather along dimension 0, but all '\n",
      "/opt/conda/lib/python3.10/site-packages/torch/nn/parallel/_functions.py:68: UserWarning: Was asked to gather along dimension 0, but all input tensors were scalars; will instead unsqueeze and return a vector.\n",
      "  warnings.warn('Was asked to gather along dimension 0, but all '\n",
      "/opt/conda/lib/python3.10/site-packages/torch/nn/parallel/_functions.py:68: UserWarning: Was asked to gather along dimension 0, but all input tensors were scalars; will instead unsqueeze and return a vector.\n",
      "  warnings.warn('Was asked to gather along dimension 0, but all '\n"
     ]
    },
    {
     "data": {
      "text/plain": [
       "TrainOutput(global_step=4992, training_loss=1.0455395319522955, metrics={'train_runtime': 11248.2116, 'train_samples_per_second': 28.416, 'train_steps_per_second': 0.444, 'total_flos': 2.852832907234891e+16, 'train_loss': 1.0455395319522955, 'epoch': 7.99})"
      ]
     },
     "execution_count": 12,
     "metadata": {},
     "output_type": "execute_result"
    }
   ],
   "source": [
    "output_dir = trained_model_dir_path + 'tts'\n",
    "best_model_dir = trained_model_dir_path + '/best'\n",
    "\n",
    "training_args = TrainingArguments(\n",
    "    output_dir=output_dir,\n",
    "    load_best_model_at_end=True,\n",
    "    save_total_limit=1,\n",
    "    evaluation_strategy='epoch',\n",
    "    save_strategy='epoch',\n",
    "    warmup_ratio=0.2,\n",
    "    learning_rate=4e-5,\n",
    "    gradient_accumulation_steps=4,\n",
    "    per_device_train_batch_size=8,\n",
    "    per_device_eval_batch_size=8,\n",
    "    num_train_epochs=8,\n",
    "    report_to='none',\n",
    "    weight_decay=0.03,\n",
    "    lr_scheduler_type='linear',\n",
    "    metric_for_best_model='map3'\n",
    ")\n",
    "\n",
    "model = AutoModelForSequenceClassification.from_pretrained(deberta_v3_large,id2label=id2label, label2id=label2id, ignore_mismatched_sizes=True)\n",
    "\n",
    "trainer = Trainer(\n",
    "    model=model,\n",
    "    args=training_args,\n",
    "    tokenizer=tokenizer,\n",
    "    train_dataset=tokenized_train,\n",
    "    eval_dataset=tokenized_valid,\n",
    "    callbacks=[EarlyStoppingCallback(early_stopping_patience=5)],\n",
    "    compute_metrics=compute_metrics\n",
    ")\n",
    "\n",
    "trainer.train()    "
   ]
  },
  {
   "cell_type": "code",
   "execution_count": 13,
   "id": "c3bc0e0d",
   "metadata": {
    "execution": {
     "iopub.execute_input": "2023-11-11T06:21:52.538624Z",
     "iopub.status.busy": "2023-11-11T06:21:52.538325Z",
     "iopub.status.idle": "2023-11-11T06:21:54.209124Z",
     "shell.execute_reply": "2023-11-11T06:21:54.208116Z"
    },
    "papermill": {
     "duration": 1.68085,
     "end_time": "2023-11-11T06:21:54.211951",
     "exception": false,
     "start_time": "2023-11-11T06:21:52.531101",
     "status": "completed"
    },
    "tags": []
   },
   "outputs": [],
   "source": [
    "trainer.save_model(\"/kaggle/working/model\")\n"
   ]
  },
  {
   "cell_type": "code",
   "execution_count": null,
   "id": "97acfb39",
   "metadata": {
    "papermill": {
     "duration": 0.007042,
     "end_time": "2023-11-11T06:21:54.227393",
     "exception": false,
     "start_time": "2023-11-11T06:21:54.220351",
     "status": "completed"
    },
    "tags": []
   },
   "outputs": [],
   "source": []
  }
 ],
 "metadata": {
  "kernelspec": {
   "display_name": "Python 3",
   "language": "python",
   "name": "python3"
  },
  "language_info": {
   "codemirror_mode": {
    "name": "ipython",
    "version": 3
   },
   "file_extension": ".py",
   "mimetype": "text/x-python",
   "name": "python",
   "nbconvert_exporter": "python",
   "pygments_lexer": "ipython3",
   "version": "3.10.12"
  },
  "papermill": {
   "default_parameters": {},
   "duration": 11334.435978,
   "end_time": "2023-11-11T06:21:57.339861",
   "environment_variables": {},
   "exception": null,
   "input_path": "__notebook__.ipynb",
   "output_path": "__notebook__.ipynb",
   "parameters": {},
   "start_time": "2023-11-11T03:13:02.903883",
   "version": "2.4.0"
  },
  "widgets": {
   "application/vnd.jupyter.widget-state+json": {
    "state": {
     "10a26d4f4eec46babc820bab1d3f8e18": {
      "model_module": "@jupyter-widgets/controls",
      "model_module_version": "1.5.0",
      "model_name": "HTMLModel",
      "state": {
       "_dom_classes": [],
       "_model_module": "@jupyter-widgets/controls",
       "_model_module_version": "1.5.0",
       "_model_name": "HTMLModel",
       "_view_count": null,
       "_view_module": "@jupyter-widgets/controls",
       "_view_module_version": "1.5.0",
       "_view_name": "HTMLView",
       "description": "",
       "description_tooltip": null,
       "layout": "IPY_MODEL_c08d19a960ec4322a39f8aa3aa1756bc",
       "placeholder": "​",
       "style": "IPY_MODEL_a5c13deef3614c4986b39ed24546dbd2",
       "value": " 39954/39954 [00:24&lt;00:00, 1654.34ex/s]"
      }
     },
     "1526ba77d38c4347ad7495378a4a1416": {
      "model_module": "@jupyter-widgets/base",
      "model_module_version": "1.2.0",
      "model_name": "LayoutModel",
      "state": {
       "_model_module": "@jupyter-widgets/base",
       "_model_module_version": "1.2.0",
       "_model_name": "LayoutModel",
       "_view_count": null,
       "_view_module": "@jupyter-widgets/base",
       "_view_module_version": "1.2.0",
       "_view_name": "LayoutView",
       "align_content": null,
       "align_items": null,
       "align_self": null,
       "border": null,
       "bottom": null,
       "display": null,
       "flex": null,
       "flex_flow": null,
       "grid_area": null,
       "grid_auto_columns": null,
       "grid_auto_flow": null,
       "grid_auto_rows": null,
       "grid_column": null,
       "grid_gap": null,
       "grid_row": null,
       "grid_template_areas": null,
       "grid_template_columns": null,
       "grid_template_rows": null,
       "height": null,
       "justify_content": null,
       "justify_items": null,
       "left": null,
       "margin": null,
       "max_height": null,
       "max_width": null,
       "min_height": null,
       "min_width": null,
       "object_fit": null,
       "object_position": null,
       "order": null,
       "overflow": null,
       "overflow_x": null,
       "overflow_y": null,
       "padding": null,
       "right": null,
       "top": null,
       "visibility": null,
       "width": null
      }
     },
     "175ab6917478481d98b29e3061a991e8": {
      "model_module": "@jupyter-widgets/controls",
      "model_module_version": "1.5.0",
      "model_name": "HBoxModel",
      "state": {
       "_dom_classes": [],
       "_model_module": "@jupyter-widgets/controls",
       "_model_module_version": "1.5.0",
       "_model_name": "HBoxModel",
       "_view_count": null,
       "_view_module": "@jupyter-widgets/controls",
       "_view_module_version": "1.5.0",
       "_view_name": "HBoxView",
       "box_style": "",
       "children": [
        "IPY_MODEL_e714be2cde2540bea621aa4324d421b3",
        "IPY_MODEL_f31c705b61d640baaa0499e7883753f4",
        "IPY_MODEL_10a26d4f4eec46babc820bab1d3f8e18"
       ],
       "layout": "IPY_MODEL_df48034efad94593a03d1c8e6d4b485a"
      }
     },
     "222a77e41a4946309d87be366362cf8c": {
      "model_module": "@jupyter-widgets/base",
      "model_module_version": "1.2.0",
      "model_name": "LayoutModel",
      "state": {
       "_model_module": "@jupyter-widgets/base",
       "_model_module_version": "1.2.0",
       "_model_name": "LayoutModel",
       "_view_count": null,
       "_view_module": "@jupyter-widgets/base",
       "_view_module_version": "1.2.0",
       "_view_name": "LayoutView",
       "align_content": null,
       "align_items": null,
       "align_self": null,
       "border": null,
       "bottom": null,
       "display": null,
       "flex": null,
       "flex_flow": null,
       "grid_area": null,
       "grid_auto_columns": null,
       "grid_auto_flow": null,
       "grid_auto_rows": null,
       "grid_column": null,
       "grid_gap": null,
       "grid_row": null,
       "grid_template_areas": null,
       "grid_template_columns": null,
       "grid_template_rows": null,
       "height": null,
       "justify_content": null,
       "justify_items": null,
       "left": null,
       "margin": null,
       "max_height": null,
       "max_width": null,
       "min_height": null,
       "min_width": null,
       "object_fit": null,
       "object_position": null,
       "order": null,
       "overflow": null,
       "overflow_x": null,
       "overflow_y": null,
       "padding": null,
       "right": null,
       "top": null,
       "visibility": null,
       "width": null
      }
     },
     "2750c466dddd43c8aad1f91fd352ff21": {
      "model_module": "@jupyter-widgets/controls",
      "model_module_version": "1.5.0",
      "model_name": "FloatProgressModel",
      "state": {
       "_dom_classes": [],
       "_model_module": "@jupyter-widgets/controls",
       "_model_module_version": "1.5.0",
       "_model_name": "FloatProgressModel",
       "_view_count": null,
       "_view_module": "@jupyter-widgets/controls",
       "_view_module_version": "1.5.0",
       "_view_name": "ProgressView",
       "bar_style": "success",
       "description": "",
       "description_tooltip": null,
       "layout": "IPY_MODEL_48f55d00bed24d879d0d608436e842fb",
       "max": 9989.0,
       "min": 0.0,
       "orientation": "horizontal",
       "style": "IPY_MODEL_ecfbeb2df58b4e9787629fcb5c47bdc8",
       "value": 9989.0
      }
     },
     "303b1f2f520440a8a1ec3990269f929f": {
      "model_module": "@jupyter-widgets/controls",
      "model_module_version": "1.5.0",
      "model_name": "ProgressStyleModel",
      "state": {
       "_model_module": "@jupyter-widgets/controls",
       "_model_module_version": "1.5.0",
       "_model_name": "ProgressStyleModel",
       "_view_count": null,
       "_view_module": "@jupyter-widgets/base",
       "_view_module_version": "1.2.0",
       "_view_name": "StyleView",
       "bar_color": null,
       "description_width": ""
      }
     },
     "303e2162c6df49eea212fb202c0cf578": {
      "model_module": "@jupyter-widgets/controls",
      "model_module_version": "1.5.0",
      "model_name": "DescriptionStyleModel",
      "state": {
       "_model_module": "@jupyter-widgets/controls",
       "_model_module_version": "1.5.0",
       "_model_name": "DescriptionStyleModel",
       "_view_count": null,
       "_view_module": "@jupyter-widgets/base",
       "_view_module_version": "1.2.0",
       "_view_name": "StyleView",
       "description_width": ""
      }
     },
     "48f55d00bed24d879d0d608436e842fb": {
      "model_module": "@jupyter-widgets/base",
      "model_module_version": "1.2.0",
      "model_name": "LayoutModel",
      "state": {
       "_model_module": "@jupyter-widgets/base",
       "_model_module_version": "1.2.0",
       "_model_name": "LayoutModel",
       "_view_count": null,
       "_view_module": "@jupyter-widgets/base",
       "_view_module_version": "1.2.0",
       "_view_name": "LayoutView",
       "align_content": null,
       "align_items": null,
       "align_self": null,
       "border": null,
       "bottom": null,
       "display": null,
       "flex": null,
       "flex_flow": null,
       "grid_area": null,
       "grid_auto_columns": null,
       "grid_auto_flow": null,
       "grid_auto_rows": null,
       "grid_column": null,
       "grid_gap": null,
       "grid_row": null,
       "grid_template_areas": null,
       "grid_template_columns": null,
       "grid_template_rows": null,
       "height": null,
       "justify_content": null,
       "justify_items": null,
       "left": null,
       "margin": null,
       "max_height": null,
       "max_width": null,
       "min_height": null,
       "min_width": null,
       "object_fit": null,
       "object_position": null,
       "order": null,
       "overflow": null,
       "overflow_x": null,
       "overflow_y": null,
       "padding": null,
       "right": null,
       "top": null,
       "visibility": null,
       "width": null
      }
     },
     "4973647028af465998426c36a479a7af": {
      "model_module": "@jupyter-widgets/base",
      "model_module_version": "1.2.0",
      "model_name": "LayoutModel",
      "state": {
       "_model_module": "@jupyter-widgets/base",
       "_model_module_version": "1.2.0",
       "_model_name": "LayoutModel",
       "_view_count": null,
       "_view_module": "@jupyter-widgets/base",
       "_view_module_version": "1.2.0",
       "_view_name": "LayoutView",
       "align_content": null,
       "align_items": null,
       "align_self": null,
       "border": null,
       "bottom": null,
       "display": null,
       "flex": null,
       "flex_flow": null,
       "grid_area": null,
       "grid_auto_columns": null,
       "grid_auto_flow": null,
       "grid_auto_rows": null,
       "grid_column": null,
       "grid_gap": null,
       "grid_row": null,
       "grid_template_areas": null,
       "grid_template_columns": null,
       "grid_template_rows": null,
       "height": null,
       "justify_content": null,
       "justify_items": null,
       "left": null,
       "margin": null,
       "max_height": null,
       "max_width": null,
       "min_height": null,
       "min_width": null,
       "object_fit": null,
       "object_position": null,
       "order": null,
       "overflow": null,
       "overflow_x": null,
       "overflow_y": null,
       "padding": null,
       "right": null,
       "top": null,
       "visibility": null,
       "width": null
      }
     },
     "71fb3f3f235a44caa837b1c258f8727c": {
      "model_module": "@jupyter-widgets/controls",
      "model_module_version": "1.5.0",
      "model_name": "DescriptionStyleModel",
      "state": {
       "_model_module": "@jupyter-widgets/controls",
       "_model_module_version": "1.5.0",
       "_model_name": "DescriptionStyleModel",
       "_view_count": null,
       "_view_module": "@jupyter-widgets/base",
       "_view_module_version": "1.2.0",
       "_view_name": "StyleView",
       "description_width": ""
      }
     },
     "95c664e9fbea4caaa0f61de89dee138a": {
      "model_module": "@jupyter-widgets/base",
      "model_module_version": "1.2.0",
      "model_name": "LayoutModel",
      "state": {
       "_model_module": "@jupyter-widgets/base",
       "_model_module_version": "1.2.0",
       "_model_name": "LayoutModel",
       "_view_count": null,
       "_view_module": "@jupyter-widgets/base",
       "_view_module_version": "1.2.0",
       "_view_name": "LayoutView",
       "align_content": null,
       "align_items": null,
       "align_self": null,
       "border": null,
       "bottom": null,
       "display": null,
       "flex": null,
       "flex_flow": null,
       "grid_area": null,
       "grid_auto_columns": null,
       "grid_auto_flow": null,
       "grid_auto_rows": null,
       "grid_column": null,
       "grid_gap": null,
       "grid_row": null,
       "grid_template_areas": null,
       "grid_template_columns": null,
       "grid_template_rows": null,
       "height": null,
       "justify_content": null,
       "justify_items": null,
       "left": null,
       "margin": null,
       "max_height": null,
       "max_width": null,
       "min_height": null,
       "min_width": null,
       "object_fit": null,
       "object_position": null,
       "order": null,
       "overflow": null,
       "overflow_x": null,
       "overflow_y": null,
       "padding": null,
       "right": null,
       "top": null,
       "visibility": null,
       "width": null
      }
     },
     "a5c13deef3614c4986b39ed24546dbd2": {
      "model_module": "@jupyter-widgets/controls",
      "model_module_version": "1.5.0",
      "model_name": "DescriptionStyleModel",
      "state": {
       "_model_module": "@jupyter-widgets/controls",
       "_model_module_version": "1.5.0",
       "_model_name": "DescriptionStyleModel",
       "_view_count": null,
       "_view_module": "@jupyter-widgets/base",
       "_view_module_version": "1.2.0",
       "_view_name": "StyleView",
       "description_width": ""
      }
     },
     "aae4eed6fa7a40ad8df011119a6f8d63": {
      "model_module": "@jupyter-widgets/controls",
      "model_module_version": "1.5.0",
      "model_name": "DescriptionStyleModel",
      "state": {
       "_model_module": "@jupyter-widgets/controls",
       "_model_module_version": "1.5.0",
       "_model_name": "DescriptionStyleModel",
       "_view_count": null,
       "_view_module": "@jupyter-widgets/base",
       "_view_module_version": "1.2.0",
       "_view_name": "StyleView",
       "description_width": ""
      }
     },
     "be962bc87c444e6c89127210b0cfc2c4": {
      "model_module": "@jupyter-widgets/base",
      "model_module_version": "1.2.0",
      "model_name": "LayoutModel",
      "state": {
       "_model_module": "@jupyter-widgets/base",
       "_model_module_version": "1.2.0",
       "_model_name": "LayoutModel",
       "_view_count": null,
       "_view_module": "@jupyter-widgets/base",
       "_view_module_version": "1.2.0",
       "_view_name": "LayoutView",
       "align_content": null,
       "align_items": null,
       "align_self": null,
       "border": null,
       "bottom": null,
       "display": null,
       "flex": null,
       "flex_flow": null,
       "grid_area": null,
       "grid_auto_columns": null,
       "grid_auto_flow": null,
       "grid_auto_rows": null,
       "grid_column": null,
       "grid_gap": null,
       "grid_row": null,
       "grid_template_areas": null,
       "grid_template_columns": null,
       "grid_template_rows": null,
       "height": null,
       "justify_content": null,
       "justify_items": null,
       "left": null,
       "margin": null,
       "max_height": null,
       "max_width": null,
       "min_height": null,
       "min_width": null,
       "object_fit": null,
       "object_position": null,
       "order": null,
       "overflow": null,
       "overflow_x": null,
       "overflow_y": null,
       "padding": null,
       "right": null,
       "top": null,
       "visibility": null,
       "width": null
      }
     },
     "c08d19a960ec4322a39f8aa3aa1756bc": {
      "model_module": "@jupyter-widgets/base",
      "model_module_version": "1.2.0",
      "model_name": "LayoutModel",
      "state": {
       "_model_module": "@jupyter-widgets/base",
       "_model_module_version": "1.2.0",
       "_model_name": "LayoutModel",
       "_view_count": null,
       "_view_module": "@jupyter-widgets/base",
       "_view_module_version": "1.2.0",
       "_view_name": "LayoutView",
       "align_content": null,
       "align_items": null,
       "align_self": null,
       "border": null,
       "bottom": null,
       "display": null,
       "flex": null,
       "flex_flow": null,
       "grid_area": null,
       "grid_auto_columns": null,
       "grid_auto_flow": null,
       "grid_auto_rows": null,
       "grid_column": null,
       "grid_gap": null,
       "grid_row": null,
       "grid_template_areas": null,
       "grid_template_columns": null,
       "grid_template_rows": null,
       "height": null,
       "justify_content": null,
       "justify_items": null,
       "left": null,
       "margin": null,
       "max_height": null,
       "max_width": null,
       "min_height": null,
       "min_width": null,
       "object_fit": null,
       "object_position": null,
       "order": null,
       "overflow": null,
       "overflow_x": null,
       "overflow_y": null,
       "padding": null,
       "right": null,
       "top": null,
       "visibility": null,
       "width": null
      }
     },
     "df48034efad94593a03d1c8e6d4b485a": {
      "model_module": "@jupyter-widgets/base",
      "model_module_version": "1.2.0",
      "model_name": "LayoutModel",
      "state": {
       "_model_module": "@jupyter-widgets/base",
       "_model_module_version": "1.2.0",
       "_model_name": "LayoutModel",
       "_view_count": null,
       "_view_module": "@jupyter-widgets/base",
       "_view_module_version": "1.2.0",
       "_view_name": "LayoutView",
       "align_content": null,
       "align_items": null,
       "align_self": null,
       "border": null,
       "bottom": null,
       "display": null,
       "flex": null,
       "flex_flow": null,
       "grid_area": null,
       "grid_auto_columns": null,
       "grid_auto_flow": null,
       "grid_auto_rows": null,
       "grid_column": null,
       "grid_gap": null,
       "grid_row": null,
       "grid_template_areas": null,
       "grid_template_columns": null,
       "grid_template_rows": null,
       "height": null,
       "justify_content": null,
       "justify_items": null,
       "left": null,
       "margin": null,
       "max_height": null,
       "max_width": null,
       "min_height": null,
       "min_width": null,
       "object_fit": null,
       "object_position": null,
       "order": null,
       "overflow": null,
       "overflow_x": null,
       "overflow_y": null,
       "padding": null,
       "right": null,
       "top": null,
       "visibility": null,
       "width": null
      }
     },
     "e714be2cde2540bea621aa4324d421b3": {
      "model_module": "@jupyter-widgets/controls",
      "model_module_version": "1.5.0",
      "model_name": "HTMLModel",
      "state": {
       "_dom_classes": [],
       "_model_module": "@jupyter-widgets/controls",
       "_model_module_version": "1.5.0",
       "_model_name": "HTMLModel",
       "_view_count": null,
       "_view_module": "@jupyter-widgets/controls",
       "_view_module_version": "1.5.0",
       "_view_name": "HTMLView",
       "description": "",
       "description_tooltip": null,
       "layout": "IPY_MODEL_222a77e41a4946309d87be366362cf8c",
       "placeholder": "​",
       "style": "IPY_MODEL_71fb3f3f235a44caa837b1c258f8727c",
       "value": "100%"
      }
     },
     "ead22921bcac4e718e280f607d7e2820": {
      "model_module": "@jupyter-widgets/controls",
      "model_module_version": "1.5.0",
      "model_name": "HTMLModel",
      "state": {
       "_dom_classes": [],
       "_model_module": "@jupyter-widgets/controls",
       "_model_module_version": "1.5.0",
       "_model_name": "HTMLModel",
       "_view_count": null,
       "_view_module": "@jupyter-widgets/controls",
       "_view_module_version": "1.5.0",
       "_view_name": "HTMLView",
       "description": "",
       "description_tooltip": null,
       "layout": "IPY_MODEL_1526ba77d38c4347ad7495378a4a1416",
       "placeholder": "​",
       "style": "IPY_MODEL_303e2162c6df49eea212fb202c0cf578",
       "value": " 9989/9989 [00:06&lt;00:00, 1646.15ex/s]"
      }
     },
     "ecfbeb2df58b4e9787629fcb5c47bdc8": {
      "model_module": "@jupyter-widgets/controls",
      "model_module_version": "1.5.0",
      "model_name": "ProgressStyleModel",
      "state": {
       "_model_module": "@jupyter-widgets/controls",
       "_model_module_version": "1.5.0",
       "_model_name": "ProgressStyleModel",
       "_view_count": null,
       "_view_module": "@jupyter-widgets/base",
       "_view_module_version": "1.2.0",
       "_view_name": "StyleView",
       "bar_color": null,
       "description_width": ""
      }
     },
     "f31c705b61d640baaa0499e7883753f4": {
      "model_module": "@jupyter-widgets/controls",
      "model_module_version": "1.5.0",
      "model_name": "FloatProgressModel",
      "state": {
       "_dom_classes": [],
       "_model_module": "@jupyter-widgets/controls",
       "_model_module_version": "1.5.0",
       "_model_name": "FloatProgressModel",
       "_view_count": null,
       "_view_module": "@jupyter-widgets/controls",
       "_view_module_version": "1.5.0",
       "_view_name": "ProgressView",
       "bar_style": "success",
       "description": "",
       "description_tooltip": null,
       "layout": "IPY_MODEL_be962bc87c444e6c89127210b0cfc2c4",
       "max": 39954.0,
       "min": 0.0,
       "orientation": "horizontal",
       "style": "IPY_MODEL_303b1f2f520440a8a1ec3990269f929f",
       "value": 39954.0
      }
     },
     "f4684486d4624bc99f59163a51329cfa": {
      "model_module": "@jupyter-widgets/controls",
      "model_module_version": "1.5.0",
      "model_name": "HBoxModel",
      "state": {
       "_dom_classes": [],
       "_model_module": "@jupyter-widgets/controls",
       "_model_module_version": "1.5.0",
       "_model_name": "HBoxModel",
       "_view_count": null,
       "_view_module": "@jupyter-widgets/controls",
       "_view_module_version": "1.5.0",
       "_view_name": "HBoxView",
       "box_style": "",
       "children": [
        "IPY_MODEL_f767ed89412a4dbf83b6b19128774d45",
        "IPY_MODEL_2750c466dddd43c8aad1f91fd352ff21",
        "IPY_MODEL_ead22921bcac4e718e280f607d7e2820"
       ],
       "layout": "IPY_MODEL_4973647028af465998426c36a479a7af"
      }
     },
     "f767ed89412a4dbf83b6b19128774d45": {
      "model_module": "@jupyter-widgets/controls",
      "model_module_version": "1.5.0",
      "model_name": "HTMLModel",
      "state": {
       "_dom_classes": [],
       "_model_module": "@jupyter-widgets/controls",
       "_model_module_version": "1.5.0",
       "_model_name": "HTMLModel",
       "_view_count": null,
       "_view_module": "@jupyter-widgets/controls",
       "_view_module_version": "1.5.0",
       "_view_name": "HTMLView",
       "description": "",
       "description_tooltip": null,
       "layout": "IPY_MODEL_95c664e9fbea4caaa0f61de89dee138a",
       "placeholder": "​",
       "style": "IPY_MODEL_aae4eed6fa7a40ad8df011119a6f8d63",
       "value": "100%"
      }
     }
    },
    "version_major": 2,
    "version_minor": 0
   }
  }
 },
 "nbformat": 4,
 "nbformat_minor": 5
}
